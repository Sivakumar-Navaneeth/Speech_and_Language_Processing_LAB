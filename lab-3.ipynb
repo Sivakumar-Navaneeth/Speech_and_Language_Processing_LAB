{
 "cells": [
  {
   "cell_type": "markdown",
   "metadata": {},
   "source": [
    "# LAB-1-a\n",
    "### Text Preprocessing\n",
    "\n",
    "- [Grammer](#1.-Grammer)\n",
    "- [Parsing](#2.-Parsing)\n",
    "- [Downloading Packages](#3.-Downloading-Packages)\n",
    "- [Chunking](#4.-Chunking)\n",
    "- [Regular Expression Parser](#5.-Regular-Expression-Parser)\n",
    "\n",
    "### Author\n",
    "\n",
    "- [Navaneeth Sivakumar - 21BAI1302](https://github.com/Sivakumar-Navaneeth)"
   ]
  },
  {
   "cell_type": "markdown",
   "metadata": {},
   "source": [
    "#### 1. Grammer"
   ]
  },
  {
   "cell_type": "code",
   "execution_count": 3,
   "metadata": {},
   "outputs": [],
   "source": [
    "import nltk\n",
    "from nltk import CFG\n",
    "\n",
    "grammer = CFG.fromstring(\"\"\"\n",
    "S -> NP VP\n",
    "S -> Aux NP VP\n",
    "S -> VP\n",
    "NP -> Det NOM\n",
    "NOM -> Noun\n",
    "NOM -> Noun NOM\n",
    "VP -> Verb \n",
    "VP -> Verb NP \n",
    "Det -> \"the\" | \"a\" | \"that\" | \"this\"\n",
    "Noun -> \"book\" | \"flight\" | \"meal\" | \"man\"\n",
    "Verb -> \"book\" | \"include\" | \"read\"\n",
    "Aux -> \"does\"\n",
    "\"\"\")"
   ]
  },
  {
   "cell_type": "markdown",
   "metadata": {},
   "source": [
    "#### 2. Parsing"
   ]
  },
  {
   "cell_type": "code",
   "execution_count": 5,
   "metadata": {},
   "outputs": [
    {
     "name": "stdout",
     "output_type": "stream",
     "text": [
      "(S (VP (Verb book) (NP (Det that) (NOM (Noun flight)))))\n"
     ]
    }
   ],
   "source": [
    "parser = nltk.ChartParser(grammer)\n",
    "sentence = \"book that flight\".split()\n",
    "for tree in parser.parse(sentence):\n",
    "    print(tree)"
   ]
  },
  {
   "cell_type": "markdown",
   "metadata": {},
   "source": [
    "#### 3. Downloading Packages"
   ]
  },
  {
   "cell_type": "code",
   "execution_count": null,
   "metadata": {},
   "outputs": [],
   "source": [
    "nltk.download('punkt')\n",
    "nltk.download('averaged_perceptron_tagger')"
   ]
  },
  {
   "cell_type": "markdown",
   "metadata": {},
   "source": [
    "#### 4. Chunking"
   ]
  },
  {
   "cell_type": "code",
   "execution_count": 9,
   "metadata": {},
   "outputs": [
    {
     "name": "stdout",
     "output_type": "stream",
     "text": [
      "[('the', 'DT'), ('quick', 'JJ'), ('brown', 'NN'), ('fox', 'NN'), ('jumps', 'VBZ'), ('over', 'IN'), ('the', 'DT'), ('lazy', 'JJ'), ('dog', 'NN'), ('.', '.')]\n"
     ]
    }
   ],
   "source": [
    "from nltk import pos_tag\n",
    "from nltk.chunk import RegexpChunkParser\n",
    "\n",
    "sentence = \"the quick brown fox jumps over the lazy dog.\"\n",
    "tokens = nltk.word_tokenize(sentence)\n",
    "tags = pos_tag(tokens)\n",
    "print(tags)"
   ]
  },
  {
   "cell_type": "markdown",
   "metadata": {},
   "source": [
    "#### 5. Regular Expression Parser"
   ]
  },
  {
   "cell_type": "code",
   "execution_count": 13,
   "metadata": {},
   "outputs": [
    {
     "name": "stdout",
     "output_type": "stream",
     "text": [
      "(S\n",
      "  (NP the/DT quick/JJ brown/NN)\n",
      "  (NP fox/NN)\n",
      "  jumps/VBZ\n",
      "  over/IN\n",
      "  (NP the/DT lazy/JJ dog/NN)\n",
      "  ./.)\n"
     ]
    }
   ],
   "source": [
    "from nltk import pos_tag\n",
    "from nltk.chunk import RegexpParser\n",
    "\n",
    "sentence = \"the quick brown fox jumps over the lazy dog.\"\n",
    "tokens = nltk.word_tokenize(sentence)\n",
    "tags = pos_tag(tokens)\n",
    "context_grammer = \"NP: {<DT>?<JJ>*<NN>}\"\n",
    "context_parser = RegexpParser(context_grammer)\n",
    "context = context_parser.parse(tags)\n",
    "print(context)\n"
   ]
  }
 ],
 "metadata": {
  "kernelspec": {
   "display_name": "spam",
   "language": "python",
   "name": "python3"
  },
  "language_info": {
   "codemirror_mode": {
    "name": "ipython",
    "version": 3
   },
   "file_extension": ".py",
   "mimetype": "text/x-python",
   "name": "python",
   "nbconvert_exporter": "python",
   "pygments_lexer": "ipython3",
   "version": "3.11.7"
  }
 },
 "nbformat": 4,
 "nbformat_minor": 2
}
