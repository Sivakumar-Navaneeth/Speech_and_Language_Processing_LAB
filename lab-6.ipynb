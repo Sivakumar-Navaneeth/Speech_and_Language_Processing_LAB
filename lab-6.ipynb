{
 "cells": [
  {
   "cell_type": "code",
   "execution_count": 1,
   "metadata": {},
   "outputs": [],
   "source": [
    "import numpy as np\n",
    "import tensorflow as tf\n",
    "from tensorflow.keras.preprocessing.sequence import pad_sequences\n",
    "from tensorflow.keras.preprocessing.text import Tokenizer\n",
    "from tensorflow.keras.models import Sequential\n",
    "from tensorflow.keras.layers import Embedding, SimpleRNN, Dense\n",
    "from tensorflow.keras.utils import to_categorical\n"
   ]
  },
  {
   "cell_type": "code",
   "execution_count": 4,
   "metadata": {},
   "outputs": [],
   "source": [
    "def load_glove_embedding(file_path):\n",
    "    embedding_index = {}\n",
    "    with open(file_path, 'r', encoding= 'utf-8') as file:\n",
    "        for line in file:\n",
    "            values = line.split()\n",
    "            word = values[0]\n",
    "            coefficient = np.asarray(values[1:], dtype='float32')\n",
    "            embedding_index[word] = coefficient\n",
    "        return embedding_index"
   ]
  },
  {
   "cell_type": "code",
   "execution_count": 7,
   "metadata": {},
   "outputs": [],
   "source": [
    "max_words = 1000\n",
    "max_length = 100\n",
    "embd_dim = 100\n",
    "num_classes = 2"
   ]
  },
  {
   "cell_type": "code",
   "execution_count": 8,
   "metadata": {},
   "outputs": [],
   "source": [
    "texts = ['Sample text data for good text classification', 'bad sample text data part two']\n",
    "labels = [0,1]"
   ]
  },
  {
   "cell_type": "code",
   "execution_count": 9,
   "metadata": {},
   "outputs": [],
   "source": [
    "tokenizer = Tokenizer(num_words=max_words)\n",
    "tokenizer.fit_on_texts(texts)\n",
    "word_sequence = tokenizer.texts_to_sequences(texts)\n",
    "num_sequence = pad_sequences(word_sequence, maxlen = max_length)\n",
    "labels = to_categorical(labels, num_classes=num_classes)"
   ]
  },
  {
   "cell_type": "code",
   "execution_count": 10,
   "metadata": {},
   "outputs": [],
   "source": [
    "file_path = \"Dataset/glove.6B.100d.txt\"\n",
    "embedding_index = load_glove_embedding(file_path=file_path)"
   ]
  },
  {
   "cell_type": "code",
   "execution_count": 14,
   "metadata": {},
   "outputs": [],
   "source": [
    "word_index = tokenizer.word_index\n",
    "embedding_matrix = np.zeros((len(word_index)+1, embd_dim), dtype=float)\n",
    "for word,i in word_index.items():\n",
    "    if i > len(word_index):\n",
    "        continue\n",
    "    embedding_vector = embedding_index.get(word)\n",
    "    if embedding_vector is not None:\n",
    "        embedding_matrix[i] = embedding_vector"
   ]
  },
  {
   "cell_type": "code",
   "execution_count": 18,
   "metadata": {},
   "outputs": [],
   "source": [
    "model = Sequential()\n",
    "model.add(Embedding(len(word_index)+1, embd_dim, weights = [embedding_matrix], input_length = max_length, trainable = False))\n",
    "model.add(SimpleRNN(128))\n",
    "model.add(Dense(num_classes, activation='softmax'))\n",
    "\n",
    "model.compile(optimizer='adam', loss='categorical_crossentropy', metrics=['accuracy'])"
   ]
  },
  {
   "cell_type": "code",
   "execution_count": 19,
   "metadata": {},
   "outputs": [
    {
     "name": "stdout",
     "output_type": "stream",
     "text": [
      "Epoch 1/5\n",
      "1/1 [==============================] - 2s 2s/step - loss: 0.7006 - accuracy: 0.5000\n",
      "Epoch 2/5\n",
      "1/1 [==============================] - 0s 84ms/step - loss: 0.1881 - accuracy: 1.0000\n",
      "Epoch 3/5\n",
      "1/1 [==============================] - 0s 62ms/step - loss: 0.0746 - accuracy: 1.0000\n",
      "Epoch 4/5\n",
      "1/1 [==============================] - 0s 70ms/step - loss: 0.0333 - accuracy: 1.0000\n",
      "Epoch 5/5\n",
      "1/1 [==============================] - 0s 54ms/step - loss: 0.0156 - accuracy: 1.0000\n"
     ]
    },
    {
     "data": {
      "text/plain": [
       "<keras.callbacks.History at 0x227dfc72f10>"
      ]
     },
     "execution_count": 19,
     "metadata": {},
     "output_type": "execute_result"
    }
   ],
   "source": [
    "model.fit(num_sequence, labels, epochs=5, batch_size=2)"
   ]
  },
  {
   "cell_type": "code",
   "execution_count": 20,
   "metadata": {},
   "outputs": [
    {
     "name": "stdout",
     "output_type": "stream",
     "text": [
      "1/1 [==============================] - 0s 307ms/step\n",
      "[0]\n"
     ]
    }
   ],
   "source": [
    "test_tokens = ['testing example']\n",
    "test_word_sequence = tokenizer.texts_to_sequences(test_tokens)\n",
    "test_num_sequence = pad_sequences(test_word_sequence, maxlen = max_length)\n",
    "\n",
    "prediction = model.predict(test_num_sequence)\n",
    "print(np.argmax(prediction, axis=1))"
   ]
  }
 ],
 "metadata": {
  "kernelspec": {
   "display_name": "tf_testbed",
   "language": "python",
   "name": "python3"
  },
  "language_info": {
   "codemirror_mode": {
    "name": "ipython",
    "version": 3
   },
   "file_extension": ".py",
   "mimetype": "text/x-python",
   "name": "python",
   "nbconvert_exporter": "python",
   "pygments_lexer": "ipython3",
   "version": "3.9.19"
  }
 },
 "nbformat": 4,
 "nbformat_minor": 2
}
