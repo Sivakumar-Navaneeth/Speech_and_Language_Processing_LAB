{
 "cells": [
  {
   "cell_type": "markdown",
   "metadata": {},
   "source": [
    "# LAB-3-a\n",
    "\n",
    "### Author\n",
    "\n",
    "- [Navaneeth Sivakumar - 21BAI1302](https://github.com/Sivakumar-Navaneeth)"
   ]
  },
  {
   "cell_type": "markdown",
   "metadata": {},
   "source": [
    "#### Read text document"
   ]
  },
  {
   "cell_type": "code",
   "execution_count": 1,
   "metadata": {},
   "outputs": [],
   "source": [
    "s = open('Dataset/alice.txt', encoding='utf-8')\n",
    "ip = s.read()\n",
    "f = ip.replace(\"\\n\", \" \")"
   ]
  },
  {
   "cell_type": "markdown",
   "metadata": {},
   "source": [
    "#### Download punktuations and stopwords from nltk"
   ]
  },
  {
   "cell_type": "code",
   "execution_count": 2,
   "metadata": {},
   "outputs": [
    {
     "name": "stderr",
     "output_type": "stream",
     "text": [
      "[nltk_data] Downloading package punkt to\n",
      "[nltk_data]     C:\\Users\\navan\\AppData\\Roaming\\nltk_data...\n",
      "[nltk_data]   Package punkt is already up-to-date!\n",
      "[nltk_data] Downloading package stopwords to\n",
      "[nltk_data]     C:\\Users\\navan\\AppData\\Roaming\\nltk_data...\n",
      "[nltk_data]   Package stopwords is already up-to-date!\n"
     ]
    },
    {
     "data": {
      "text/plain": [
       "True"
      ]
     },
     "execution_count": 2,
     "metadata": {},
     "output_type": "execute_result"
    }
   ],
   "source": [
    "import nltk\n",
    "from nltk.tokenize import sent_tokenize, word_tokenize\n",
    "from nltk.corpus import stopwords\n",
    "\n",
    "nltk.download('punkt')\n",
    "nltk.download('stopwords')"
   ]
  },
  {
   "cell_type": "markdown",
   "metadata": {},
   "source": [
    "#### Read text document and append the words"
   ]
  },
  {
   "cell_type": "code",
   "execution_count": 3,
   "metadata": {},
   "outputs": [
    {
     "name": "stdout",
     "output_type": "stream",
     "text": [
      "First 20 words are :  ['start', 'of', 'the', 'project', 'gutenberg', 'ebook', 'alice', 's', 'adventures', 'in', 'wonderland', 'illustration', 'alice', 's', 'adventures', 'in', 'wonderland', 'by', 'lewis', 'carroll']\n"
     ]
    }
   ],
   "source": [
    "import string\n",
    "import re\n",
    "\n",
    "d = []\n",
    "\n",
    "for i in sent_tokenize(f):\n",
    "    temp = []\n",
    "    for j in word_tokenize(i):\n",
    "        j = j.lower()\n",
    "        j = re.sub(r'\\d+', '', j)\n",
    "        j = re.sub(r'[^\\w\\s]', '', j)\n",
    "        if j.strip():\n",
    "            temp.append(j)\n",
    "    d.append(temp)\n",
    "print(\"First 20 words are : \",d[0][:20])"
   ]
  },
  {
   "cell_type": "markdown",
   "metadata": {},
   "source": [
    "#### Create a word2vec model"
   ]
  },
  {
   "cell_type": "code",
   "execution_count": 4,
   "metadata": {},
   "outputs": [
    {
     "name": "stdout",
     "output_type": "stream",
     "text": [
      "[('the', 0.9998452663421631), ('very', 0.9998056888580322), ('to', 0.9998041987419128), ('be', 0.9998000264167786), ('and', 0.9997984766960144), ('for', 0.9997944831848145), ('in', 0.9997925162315369), ('of', 0.9997918605804443), ('she', 0.9997896552085876), ('this', 0.9997847676277161)]\n",
      "0.99105847\n",
      "0.99996036\n"
     ]
    }
   ],
   "source": [
    "import gensim\n",
    "from gensim.models import Word2Vec\n",
    "\n",
    "m1 = gensim.models.Word2Vec(d, min_count=1, vector_size=100, window=5)\n",
    "m2 = gensim.models.Word2Vec(d, min_count=1, vector_size=100, window=5, sg=1)\n",
    "m3 = gensim.models.FastText(d)\n",
    "\n",
    "\n",
    "print(m1.wv.most_similar('alice'))\n",
    "print(m2.wv.similarity('alice', 'wonderland'))\n",
    "print(m3.wv.similarity('alice', 'wonderland'))"
   ]
  }
 ],
 "metadata": {
  "kernelspec": {
   "display_name": "Python 3",
   "language": "python",
   "name": "python3"
  },
  "language_info": {
   "codemirror_mode": {
    "name": "ipython",
    "version": 3
   },
   "file_extension": ".py",
   "mimetype": "text/x-python",
   "name": "python",
   "nbconvert_exporter": "python",
   "pygments_lexer": "ipython3",
   "version": "3.11.7"
  }
 },
 "nbformat": 4,
 "nbformat_minor": 2
}
