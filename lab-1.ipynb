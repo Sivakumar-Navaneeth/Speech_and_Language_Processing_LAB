{
 "cells": [
  {
   "cell_type": "markdown",
   "metadata": {},
   "source": [
    "# LAB-1-a\n",
    "### Feature Extraction \n",
    "\n",
    "- [CountVectorizer](#CountVectorizer)\n",
    "- [TfidfVectorizer](#TfidfVectorizer)\n",
    "\n",
    "### Models\n",
    "\n",
    "- [Naive Bayes](#Naive-Bayes)\n",
    "- [SVM](#SVM)\n",
    "- [Random Forest](#Random-Forest)\n",
    "- [Decision Tree](#Decision-Tree)\n",
    "- [Multi Layer Perceptron](#Multi-Layer-Perceptron)\n",
    "\n",
    "### Plots\n",
    "\n",
    "- [Accuracy Plot TfidfVectorizer](#Plot-TfidfVectorizer)\n",
    "- [Accuracy Plot CountVectorizer](#Plot-CountVectorizer)\n",
    "\n",
    "### Author\n",
    "\n",
    "- [Navaneeth Sivakumar - 21BAI1302](https://github.com/Sivakumar-Navaneeth)"
   ]
  },
  {
   "cell_type": "markdown",
   "metadata": {},
   "source": [
    "## Read File"
   ]
  },
  {
   "cell_type": "code",
   "execution_count": 1,
   "metadata": {},
   "outputs": [
    {
     "data": {
      "text/html": [
       "<div>\n",
       "<style scoped>\n",
       "    .dataframe tbody tr th:only-of-type {\n",
       "        vertical-align: middle;\n",
       "    }\n",
       "\n",
       "    .dataframe tbody tr th {\n",
       "        vertical-align: top;\n",
       "    }\n",
       "\n",
       "    .dataframe thead th {\n",
       "        text-align: right;\n",
       "    }\n",
       "</style>\n",
       "<table border=\"1\" class=\"dataframe\">\n",
       "  <thead>\n",
       "    <tr style=\"text-align: right;\">\n",
       "      <th></th>\n",
       "      <th>Sentence</th>\n",
       "      <th>Sentiment</th>\n",
       "    </tr>\n",
       "  </thead>\n",
       "  <tbody>\n",
       "    <tr>\n",
       "      <th>0</th>\n",
       "      <td>The GeoSolutions technology will leverage Bene...</td>\n",
       "      <td>positive</td>\n",
       "    </tr>\n",
       "    <tr>\n",
       "      <th>1</th>\n",
       "      <td>$ESI on lows, down $1.50 to $2.50 BK a real po...</td>\n",
       "      <td>negative</td>\n",
       "    </tr>\n",
       "    <tr>\n",
       "      <th>2</th>\n",
       "      <td>For the last quarter of 2010 , Componenta 's n...</td>\n",
       "      <td>positive</td>\n",
       "    </tr>\n",
       "    <tr>\n",
       "      <th>3</th>\n",
       "      <td>According to the Finnish-Russian Chamber of Co...</td>\n",
       "      <td>neutral</td>\n",
       "    </tr>\n",
       "    <tr>\n",
       "      <th>4</th>\n",
       "      <td>The Swedish buyout firm has sold its remaining...</td>\n",
       "      <td>neutral</td>\n",
       "    </tr>\n",
       "  </tbody>\n",
       "</table>\n",
       "</div>"
      ],
      "text/plain": [
       "                                            Sentence Sentiment\n",
       "0  The GeoSolutions technology will leverage Bene...  positive\n",
       "1  $ESI on lows, down $1.50 to $2.50 BK a real po...  negative\n",
       "2  For the last quarter of 2010 , Componenta 's n...  positive\n",
       "3  According to the Finnish-Russian Chamber of Co...   neutral\n",
       "4  The Swedish buyout firm has sold its remaining...   neutral"
      ]
     },
     "execution_count": 1,
     "metadata": {},
     "output_type": "execute_result"
    }
   ],
   "source": [
    "import pandas as pd \n",
    "import numpy as np\n",
    "\n",
    "df = pd.read_csv(\"Dataset/data.csv\")\n",
    "df.head()"
   ]
  },
  {
   "cell_type": "markdown",
   "metadata": {},
   "source": [
    "## Train Test Split"
   ]
  },
  {
   "cell_type": "code",
   "execution_count": 2,
   "metadata": {},
   "outputs": [],
   "source": [
    "from sklearn.model_selection import train_test_split\n",
    "\n",
    "x = df[\"Sentence\"].values\n",
    "y = df[\"Sentiment\"].values\n",
    "x_train, x_test, y_train, y_test = train_test_split(x, y, train_size = 0.8)"
   ]
  },
  {
   "cell_type": "markdown",
   "metadata": {},
   "source": [
    "# CountVectorizer"
   ]
  },
  {
   "cell_type": "code",
   "execution_count": 3,
   "metadata": {},
   "outputs": [],
   "source": [
    "from sklearn.feature_extraction.text import CountVectorizer\n",
    "\n",
    "fe = CountVectorizer()\n",
    "x_train = fe.fit_transform(x_train)\n",
    "x_test = fe.transform(x_test)\n",
    "\n",
    "models = []\n",
    "acc = []"
   ]
  },
  {
   "cell_type": "markdown",
   "metadata": {},
   "source": [
    "# SVM"
   ]
  },
  {
   "cell_type": "code",
   "execution_count": 4,
   "metadata": {},
   "outputs": [
    {
     "name": "stdout",
     "output_type": "stream",
     "text": [
      "              precision    recall  f1-score   support\n",
      "\n",
      "    negative       0.30      0.08      0.13       153\n",
      "     neutral       0.67      0.90      0.77       619\n",
      "    positive       0.77      0.58      0.67       397\n",
      "\n",
      "    accuracy                           0.68      1169\n",
      "   macro avg       0.58      0.52      0.52      1169\n",
      "weighted avg       0.66      0.68      0.65      1169\n",
      "\n"
     ]
    }
   ],
   "source": [
    "from sklearn.svm import SVC\n",
    "from sklearn.metrics import classification_report\n",
    "from sklearn.metrics import confusion_matrix\n",
    "from sklearn.metrics import accuracy_score\n",
    "\n",
    "svm = SVC()\n",
    "svm.fit(X=x_train,y=y_train)\n",
    "\n",
    "pred = svm.predict(x_test)\n",
    "svm_acc = accuracy_score(y_pred=pred,y_true=y_test)\n",
    "models.append(\"SVC\")\n",
    "acc.append(svm_acc)\n",
    "print(classification_report(y_test, pred))"
   ]
  },
  {
   "cell_type": "markdown",
   "metadata": {},
   "source": [
    "## Naive Bayes"
   ]
  },
  {
   "cell_type": "code",
   "execution_count": 5,
   "metadata": {},
   "outputs": [
    {
     "name": "stdout",
     "output_type": "stream",
     "text": [
      "              precision    recall  f1-score   support\n",
      "\n",
      "    negative       0.37      0.29      0.32       153\n",
      "     neutral       0.71      0.84      0.77       619\n",
      "    positive       0.77      0.63      0.69       397\n",
      "\n",
      "    accuracy                           0.69      1169\n",
      "   macro avg       0.62      0.58      0.60      1169\n",
      "weighted avg       0.69      0.69      0.68      1169\n",
      "\n"
     ]
    }
   ],
   "source": [
    "from sklearn.naive_bayes import MultinomialNB\n",
    "\n",
    "nb = MultinomialNB()\n",
    "nb.fit(X=x_train,y=y_train)\n",
    "\n",
    "pred = nb.predict(x_test)\n",
    "nb_acc = accuracy_score(y_pred=pred,y_true=y_test)\n",
    "models.append(\"NB\")\n",
    "acc.append(nb_acc)\n",
    "print(classification_report(y_test, pred))"
   ]
  },
  {
   "cell_type": "markdown",
   "metadata": {},
   "source": [
    "## Decision Tree"
   ]
  },
  {
   "cell_type": "code",
   "execution_count": 6,
   "metadata": {},
   "outputs": [
    {
     "name": "stdout",
     "output_type": "stream",
     "text": [
      "              precision    recall  f1-score   support\n",
      "\n",
      "    negative       0.13      0.14      0.13       153\n",
      "     neutral       0.64      0.67      0.65       619\n",
      "    positive       0.67      0.59      0.63       397\n",
      "\n",
      "    accuracy                           0.57      1169\n",
      "   macro avg       0.48      0.47      0.47      1169\n",
      "weighted avg       0.58      0.57      0.58      1169\n",
      "\n"
     ]
    }
   ],
   "source": [
    "from sklearn.tree import DecisionTreeClassifier\n",
    "\n",
    "dt = DecisionTreeClassifier()\n",
    "dt.fit(X=x_train,y=y_train)\n",
    "\n",
    "pred = dt.predict(x_test)\n",
    "dt_acc = accuracy_score(y_pred=pred,y_true=y_test)\n",
    "models.append(\"DT\")\n",
    "acc.append(dt_acc)\n",
    "print(classification_report(y_test, pred))"
   ]
  },
  {
   "cell_type": "markdown",
   "metadata": {},
   "source": [
    "## Random Forest"
   ]
  },
  {
   "cell_type": "code",
   "execution_count": 7,
   "metadata": {},
   "outputs": [
    {
     "name": "stdout",
     "output_type": "stream",
     "text": [
      "              precision    recall  f1-score   support\n",
      "\n",
      "    negative       0.12      0.08      0.09       153\n",
      "     neutral       0.65      0.83      0.73       619\n",
      "    positive       0.83      0.57      0.68       397\n",
      "\n",
      "    accuracy                           0.64      1169\n",
      "   macro avg       0.53      0.49      0.50      1169\n",
      "weighted avg       0.64      0.64      0.63      1169\n",
      "\n"
     ]
    }
   ],
   "source": [
    "from sklearn.ensemble import RandomForestClassifier\n",
    "\n",
    "rf = RandomForestClassifier()\n",
    "rf.fit(X=x_train,y=y_train)\n",
    "\n",
    "pred = rf.predict(x_test)\n",
    "fr_acc = accuracy_score(y_pred=pred,y_true=y_test)\n",
    "models.append(\"RF\")\n",
    "acc.append(fr_acc)\n",
    "print(classification_report(y_test, pred))"
   ]
  },
  {
   "cell_type": "markdown",
   "metadata": {},
   "source": [
    "## Multi Layer Perceptron"
   ]
  },
  {
   "cell_type": "code",
   "execution_count": 8,
   "metadata": {},
   "outputs": [
    {
     "name": "stdout",
     "output_type": "stream",
     "text": [
      "              precision    recall  f1-score   support\n",
      "\n",
      "    negative       0.20      0.18      0.19       153\n",
      "     neutral       0.68      0.73      0.71       619\n",
      "    positive       0.76      0.70      0.73       397\n",
      "\n",
      "    accuracy                           0.65      1169\n",
      "   macro avg       0.55      0.54      0.54      1169\n",
      "weighted avg       0.65      0.65      0.65      1169\n",
      "\n"
     ]
    }
   ],
   "source": [
    "from sklearn.neural_network import MLPClassifier\n",
    "\n",
    "mlp = MLPClassifier()\n",
    "mlp.fit(X=x_train,y=y_train)\n",
    "\n",
    "pred = mlp.predict(x_test)\n",
    "mlp_acc = accuracy_score(y_pred=pred,y_true=y_test)\n",
    "models.append(\"MLP\")\n",
    "acc.append(mlp_acc)\n",
    "print(classification_report(y_test, pred))"
   ]
  },
  {
   "cell_type": "markdown",
   "metadata": {},
   "source": [
    "# Plot CountVectorizer"
   ]
  },
  {
   "cell_type": "code",
   "execution_count": 9,
   "metadata": {},
   "outputs": [
    {
     "data": {
      "image/png": "[encoded data removed]",
      "text/plain": [
       "<Figure size 640x480 with 1 Axes>"
      ]
     },
     "metadata": {},
     "output_type": "display_data"
    }
   ],
   "source": [
    "import matplotlib.pyplot as plt\n",
    "\n",
    "categories = models\n",
    "values = acc\n",
    "\n",
    "fig, ax = plt.subplots()\n",
    "ax.bar(categories, values)\n",
    "\n",
    "ax.set_title('Accuracy across Models')\n",
    "ax.set_xlabel('Models')\n",
    "ax.set_ylabel('Accuracy')\n",
    "\n",
    "plt.show()"
   ]
  },
  {
   "cell_type": "code",
   "execution_count": 10,
   "metadata": {},
   "outputs": [
    {
     "name": "stdout",
     "output_type": "stream",
     "text": [
      "The Best Model to work is  NB  with an accuraccy of  0.6937553464499572\n"
     ]
    }
   ],
   "source": [
    "print(\"The Best Model to work is \",models[acc.index(max(acc))],\" with an accuraccy of \",max(acc))"
   ]
  },
  {
   "cell_type": "markdown",
   "metadata": {},
   "source": [
    "#### The Best Model : Naive Bayes  \n",
    "#### Accuraccy : 0.6937553464499572"
   ]
  },
  {
   "cell_type": "code",
   "execution_count": 11,
   "metadata": {},
   "outputs": [
    {
     "name": "stdout",
     "output_type": "stream",
     "text": [
      "The Prediction for the sentence 'The contracts of the employees , 96 of whom are blue-collar workers , will be ended between March and August 2011 .' is neutral but the actual rating is negative\n"
     ]
    }
   ],
   "source": [
    "test_x = [df[\"Sentence\"][3456]]\n",
    "test_y = df[\"Sentiment\"][3456]\n",
    "\n",
    "print(\"The Prediction for the sentence '\",test_x[0],\"' is \",nb.predict(fe.transform(test_x))[0], \" but the actual rating is \",test_y,sep=\"\")"
   ]
  },
  {
   "cell_type": "markdown",
   "metadata": {},
   "source": [
    "##### Sentence : The contracts of the employees , 96 of whom are blue-collar workers , will be ended between March and August 2011 .\n",
    "- Rating    : Negative\n",
    "- Predicted : Neutral"
   ]
  },
  {
   "cell_type": "markdown",
   "metadata": {},
   "source": [
    "# TfidfVectorizer"
   ]
  },
  {
   "cell_type": "code",
   "execution_count": 12,
   "metadata": {},
   "outputs": [],
   "source": [
    "from sklearn.feature_extraction.text import TfidfTransformer\n",
    "\n",
    "fe = TfidfTransformer()\n",
    "x_train = fe.fit_transform(x_train)\n",
    "x_test = fe.transform(x_test)\n",
    "\n",
    "models_tf = []\n",
    "acc_tf = []"
   ]
  },
  {
   "cell_type": "markdown",
   "metadata": {},
   "source": [
    "# Naive-Bayes"
   ]
  },
  {
   "cell_type": "code",
   "execution_count": 13,
   "metadata": {},
   "outputs": [
    {
     "name": "stdout",
     "output_type": "stream",
     "text": [
      "              precision    recall  f1-score   support\n",
      "\n",
      "    negative       1.00      0.04      0.08       153\n",
      "     neutral       0.61      0.99      0.75       619\n",
      "    positive       0.77      0.31      0.45       397\n",
      "\n",
      "    accuracy                           0.63      1169\n",
      "   macro avg       0.79      0.45      0.43      1169\n",
      "weighted avg       0.71      0.63      0.56      1169\n",
      "\n"
     ]
    }
   ],
   "source": [
    "nb = MultinomialNB()\n",
    "nb.fit(X=x_train,y=y_train)\n",
    "\n",
    "pred = nb.predict(x_test)\n",
    "nb_acc = accuracy_score(y_pred=pred,y_true=y_test)\n",
    "models_tf.append(\"NB\")\n",
    "acc_tf.append(nb_acc)\n",
    "print(classification_report(y_test, pred))"
   ]
  },
  {
   "cell_type": "markdown",
   "metadata": {},
   "source": [
    "## SVM"
   ]
  },
  {
   "cell_type": "code",
   "execution_count": 14,
   "metadata": {},
   "outputs": [
    {
     "name": "stdout",
     "output_type": "stream",
     "text": [
      "              precision    recall  f1-score   support\n",
      "\n",
      "    negative       0.21      0.07      0.11       153\n",
      "     neutral       0.67      0.89      0.77       619\n",
      "    positive       0.82      0.60      0.69       397\n",
      "\n",
      "    accuracy                           0.69      1169\n",
      "   macro avg       0.57      0.52      0.52      1169\n",
      "weighted avg       0.66      0.69      0.65      1169\n",
      "\n"
     ]
    }
   ],
   "source": [
    "svm = SVC()\n",
    "svm.fit(X=x_train,y=y_train)\n",
    "\n",
    "pred = svm.predict(x_test)\n",
    "svm_acc = accuracy_score(y_pred=pred,y_true=y_test)\n",
    "models_tf.append(\"SVC\")\n",
    "acc_tf.append(svm_acc)\n",
    "print(classification_report(y_test, pred))"
   ]
  },
  {
   "cell_type": "markdown",
   "metadata": {},
   "source": [
    "## Decision Tree"
   ]
  },
  {
   "cell_type": "code",
   "execution_count": 15,
   "metadata": {},
   "outputs": [
    {
     "name": "stdout",
     "output_type": "stream",
     "text": [
      "              precision    recall  f1-score   support\n",
      "\n",
      "    negative       0.13      0.16      0.14       153\n",
      "     neutral       0.63      0.64      0.64       619\n",
      "    positive       0.66      0.57      0.61       397\n",
      "\n",
      "    accuracy                           0.56      1169\n",
      "   macro avg       0.47      0.46      0.46      1169\n",
      "weighted avg       0.58      0.56      0.56      1169\n",
      "\n"
     ]
    }
   ],
   "source": [
    "dt = DecisionTreeClassifier()\n",
    "dt.fit(X=x_train,y=y_train)\n",
    "\n",
    "pred = dt.predict(x_test)\n",
    "dt_acc = accuracy_score(y_pred=pred,y_true=y_test)\n",
    "models_tf.append(\"DT\")\n",
    "acc_tf.append(dt_acc)\n",
    "print(classification_report(y_test, pred))"
   ]
  },
  {
   "cell_type": "markdown",
   "metadata": {},
   "source": [
    "## Random Forest"
   ]
  },
  {
   "cell_type": "code",
   "execution_count": 16,
   "metadata": {},
   "outputs": [
    {
     "name": "stdout",
     "output_type": "stream",
     "text": [
      "              precision    recall  f1-score   support\n",
      "\n",
      "    negative       0.11      0.07      0.09       153\n",
      "     neutral       0.63      0.82      0.71       619\n",
      "    positive       0.79      0.52      0.63       397\n",
      "\n",
      "    accuracy                           0.62      1169\n",
      "   macro avg       0.51      0.47      0.48      1169\n",
      "weighted avg       0.62      0.62      0.60      1169\n",
      "\n"
     ]
    }
   ],
   "source": [
    "rf = RandomForestClassifier()\n",
    "rf.fit(X=x_train,y=y_train)\n",
    "\n",
    "pred = rf.predict(x_test)\n",
    "fr_acc = accuracy_score(y_pred=pred,y_true=y_test)\n",
    "models_tf.append(\"RF\")\n",
    "acc_tf.append(fr_acc)\n",
    "print(classification_report(y_test, pred))"
   ]
  },
  {
   "cell_type": "markdown",
   "metadata": {},
   "source": [
    "## Multi Layer Perceptron"
   ]
  },
  {
   "cell_type": "code",
   "execution_count": 17,
   "metadata": {},
   "outputs": [
    {
     "name": "stdout",
     "output_type": "stream",
     "text": [
      "              precision    recall  f1-score   support\n",
      "\n",
      "    negative       0.19      0.18      0.19       153\n",
      "     neutral       0.68      0.74      0.71       619\n",
      "    positive       0.77      0.69      0.73       397\n",
      "\n",
      "    accuracy                           0.65      1169\n",
      "   macro avg       0.55      0.54      0.54      1169\n",
      "weighted avg       0.65      0.65      0.65      1169\n",
      "\n"
     ]
    }
   ],
   "source": [
    "mlp = MLPClassifier()\n",
    "mlp.fit(X=x_train,y=y_train)\n",
    "\n",
    "pred = mlp.predict(x_test)\n",
    "mlp_acc = accuracy_score(y_pred=pred,y_true=y_test)\n",
    "models_tf.append(\"MLP\")\n",
    "acc_tf.append(mlp_acc)\n",
    "print(classification_report(y_test, pred))"
   ]
  },
  {
   "cell_type": "markdown",
   "metadata": {},
   "source": [
    "## Plot TfidfVectorizer"
   ]
  },
  {
   "cell_type": "code",
   "execution_count": 18,
   "metadata": {},
   "outputs": [
    {
     "data": {
      "image/png": "[encoded data removed]",
      "text/plain": [
       "<Figure size 640x480 with 1 Axes>"
      ]
     },
     "metadata": {},
     "output_type": "display_data"
    }
   ],
   "source": [
    "categories = models_tf\n",
    "values = acc_tf\n",
    "\n",
    "fig, ax = plt.subplots()\n",
    "ax.bar(categories, values)\n",
    "\n",
    "ax.set_title('Accuracy across Models')\n",
    "ax.set_xlabel('Models')\n",
    "ax.set_ylabel('Accuracy')\n",
    "\n",
    "plt.show()"
   ]
  },
  {
   "cell_type": "code",
   "execution_count": 19,
   "metadata": {},
   "outputs": [
    {
     "name": "stdout",
     "output_type": "stream",
     "text": [
      "The Best Model to work is  SVC  with an accuraccy of  0.6860564585115483\n"
     ]
    }
   ],
   "source": [
    "print(\"The Best Model to work is \",models_tf[acc_tf.index(max(acc_tf))],\" with an accuraccy of \",max(acc_tf))"
   ]
  },
  {
   "cell_type": "markdown",
   "metadata": {},
   "source": [
    "#### The Best Model : Support Vector Classifier\n",
    "#### Accuraccy : 0.6757912745936698"
   ]
  },
  {
   "cell_type": "code",
   "execution_count": 20,
   "metadata": {},
   "outputs": [
    {
     "name": "stdout",
     "output_type": "stream",
     "text": [
      "The Prediction for the sentence 'The contracts of the employees , 96 of whom are blue-collar workers , will be ended between March and August 2011 .' is neutral but the actual rating is negative\n"
     ]
    }
   ],
   "source": [
    "test_x = [df[\"Sentence\"][3456]]\n",
    "test_y = df[\"Sentiment\"][3456]\n",
    "\n",
    "print(\"The Prediction for the sentence '\",test_x[0],\"' is \",nb.predict(x_test[100])[0], \" but the actual rating is \",test_y,sep=\"\")"
   ]
  },
  {
   "cell_type": "markdown",
   "metadata": {},
   "source": [
    "##### Sentence : The contracts of the employees , 96 of whom are blue-collar workers , will be ended between March and August 2011 .\n",
    "- Rating    : Negative\n",
    "- Predicted : Positive"
   ]
  },
  {
   "cell_type": "code",
   "execution_count": 21,
   "metadata": {},
   "outputs": [
    {
     "data": {
      "image/png": "[encoded data removed]",
      "text/plain": [
       "<Figure size 640x480 with 1 Axes>"
      ]
     },
     "metadata": {},
     "output_type": "display_data"
    }
   ],
   "source": [
    "categories = models\n",
    "values_1 = acc\n",
    "values_2 = []\n",
    "\n",
    "for i in models:\n",
    "    values_2.append(acc_tf[models_tf.index(i)])\n",
    "\n",
    "fig, ax = plt.subplots()\n",
    "\n",
    "x = np.arange(len(categories))  # the label locations\n",
    "width = 0.2  # the width of the bars\n",
    "\n",
    "bars1 = ax.bar(x - width, values_1, width, label='CountVectorizer', color='lightblue')\n",
    "bars2 = ax.bar(x, values_2, width, label='TFIDF', color='orange')\n",
    "\n",
    "# Add some text for labels, title and custom x-axis tick labels, etc.\n",
    "ax.set_xlabel('Models')\n",
    "ax.set_ylabel('Accuraccy')\n",
    "ax.set_title('Models vs Acccuracy')\n",
    "ax.set_xticks(x)\n",
    "ax.set_xticklabels(categories)\n",
    "ax.legend()\n",
    "\n",
    "fig.tight_layout()\n",
    "\n",
    "plt.show()"
   ]
  }
 ],
 "metadata": {
  "kernelspec": {
   "display_name": "testbed_69",
   "language": "python",
   "name": "python3"
  },
  "language_info": {
   "codemirror_mode": {
    "name": "ipython",
    "version": 3
   },
   "file_extension": ".py",
   "mimetype": "text/x-python",
   "name": "python",
   "nbconvert_exporter": "python",
   "pygments_lexer": "ipython3",
   "version": "3.11.7"
  }
 },
 "nbformat": 4,
 "nbformat_minor": 2
}
