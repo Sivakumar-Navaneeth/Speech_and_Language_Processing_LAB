{
 "cells": [
  {
   "cell_type": "markdown",
   "metadata": {},
   "source": [
    "# LAB-2-b\n",
    "### Analysis of TfIdf Vectorizer\n",
    "\n",
    "- [Corpus Of Words](#Corpus-of-Words)\n",
    "- [TfIdf Vectorizer](#TfIdf-Vectorizer)\n",
    "- [Cosine Similarity](#Cosine-Similarity)\n",
    "\n",
    "### Analysis of n-gram \n",
    "\n",
    "- [Implement Bigram](#Implement-Bigram)\n",
    "\n",
    "### Author\n",
    "\n",
    "- [Navaneeth Sivakumar - 21BAI1302](https://github.com/Sivakumar-Navaneeth)"
   ]
  },
  {
   "cell_type": "markdown",
   "metadata": {},
   "source": [
    "### Analysis of TfIdf Vectorizer"
   ]
  },
  {
   "cell_type": "markdown",
   "metadata": {},
   "source": [
    "#### Corpus of Words"
   ]
  },
  {
   "cell_type": "code",
   "execution_count": 1,
   "metadata": {},
   "outputs": [
    {
     "name": "stderr",
     "output_type": "stream",
     "text": [
      "C:\\Users\\navan\\AppData\\Local\\Temp\\ipykernel_12092\\2880933031.py:1: DeprecationWarning: \n",
      "Pyarrow will become a required dependency of pandas in the next major release of pandas (pandas 3.0),\n",
      "(to allow more performant data types, such as the Arrow string type, and better interoperability with other libraries)\n",
      "but was not found to be installed on your system.\n",
      "If this would cause problems for you,\n",
      "please provide us feedback at https://github.com/pandas-dev/pandas/issues/54466\n",
      "        \n",
      "  import pandas as pd\n"
     ]
    },
    {
     "data": {
      "text/html": [
       "<div>\n",
       "<style scoped>\n",
       "    .dataframe tbody tr th:only-of-type {\n",
       "        vertical-align: middle;\n",
       "    }\n",
       "\n",
       "    .dataframe tbody tr th {\n",
       "        vertical-align: top;\n",
       "    }\n",
       "\n",
       "    .dataframe thead th {\n",
       "        text-align: right;\n",
       "    }\n",
       "</style>\n",
       "<table border=\"1\" class=\"dataframe\">\n",
       "  <thead>\n",
       "    <tr style=\"text-align: right;\">\n",
       "      <th></th>\n",
       "      <th>Sentences</th>\n",
       "    </tr>\n",
       "  </thead>\n",
       "  <tbody>\n",
       "    <tr>\n",
       "      <th>0</th>\n",
       "      <td>The sun is the largest celestial body in the s...</td>\n",
       "    </tr>\n",
       "    <tr>\n",
       "      <th>1</th>\n",
       "      <td>The solar system consists of the sun and eight...</td>\n",
       "    </tr>\n",
       "    <tr>\n",
       "      <th>2</th>\n",
       "      <td>Ra was the eygyptian sun god</td>\n",
       "    </tr>\n",
       "    <tr>\n",
       "      <th>3</th>\n",
       "      <td>The pyramids were the pinacle of Egyptian arch...</td>\n",
       "    </tr>\n",
       "    <tr>\n",
       "      <th>4</th>\n",
       "      <td>The quick brown fox jumps over the lazy dog</td>\n",
       "    </tr>\n",
       "  </tbody>\n",
       "</table>\n",
       "</div>"
      ],
      "text/plain": [
       "                                           Sentences\n",
       "0  The sun is the largest celestial body in the s...\n",
       "1  The solar system consists of the sun and eight...\n",
       "2                       Ra was the eygyptian sun god\n",
       "3  The pyramids were the pinacle of Egyptian arch...\n",
       "4        The quick brown fox jumps over the lazy dog"
      ]
     },
     "execution_count": 1,
     "metadata": {},
     "output_type": "execute_result"
    }
   ],
   "source": [
    "import pandas as pd\n",
    "\n",
    "corpus = pd.read_csv(\"Dataset\\my_data.csv\")\n",
    "corpus.head(5)"
   ]
  },
  {
   "cell_type": "code",
   "execution_count": 2,
   "metadata": {},
   "outputs": [
    {
     "name": "stdout",
     "output_type": "stream",
     "text": [
      "<class 'numpy.ndarray'>\n",
      "\n",
      "['The sun is the largest celestial body in the solar system'\n",
      " 'The solar system consists of the sun and eight revolving planets'\n",
      " 'Ra was the eygyptian sun god'\n",
      " 'The pyramids were the pinacle of Egyptian architecture'\n",
      " 'The quick brown fox jumps over the lazy dog']\n"
     ]
    }
   ],
   "source": [
    "corpus = corpus[\"Sentences\"].values\n",
    "print(type(corpus),corpus,sep=\"\\n\\n\")"
   ]
  },
  {
   "cell_type": "markdown",
   "metadata": {},
   "source": [
    "#### TfIdf Vectorizer"
   ]
  },
  {
   "cell_type": "code",
   "execution_count": 3,
   "metadata": {},
   "outputs": [],
   "source": [
    "from sklearn.feature_extraction.text import TfidfVectorizer\n",
    "\n",
    "tfidf = TfidfVectorizer()\n",
    "vect = tfidf.fit_transform(corpus)"
   ]
  },
  {
   "cell_type": "markdown",
   "metadata": {},
   "source": [
    "#### Cosine Similarity"
   ]
  },
  {
   "cell_type": "code",
   "execution_count": 4,
   "metadata": {},
   "outputs": [
    {
     "name": "stdout",
     "output_type": "stream",
     "text": [
      "[[1.         0.36413198 0.17617752 0.17937973 0.16336438]\n",
      " [0.36413198 1.         0.14481197 0.21119119 0.11203887]\n",
      " [0.17617752 0.14481197 1.         0.08200203 0.07468074]\n",
      " [0.17937973 0.21119119 0.08200203 1.         0.126105  ]\n",
      " [0.16336438 0.11203887 0.07468074 0.126105   1.        ]]\n"
     ]
    }
   ],
   "source": [
    "from sklearn.metrics.pairwise import cosine_similarity\n",
    "cosine_similarity = cosine_similarity(vect,vect)\n",
    "print(cosine_similarity)"
   ]
  },
  {
   "cell_type": "markdown",
   "metadata": {},
   "source": [
    "### Analysis of n-gram "
   ]
  },
  {
   "cell_type": "markdown",
   "metadata": {},
   "source": [
    "#### Implement Bigram"
   ]
  },
  {
   "cell_type": "code",
   "execution_count": 5,
   "metadata": {},
   "outputs": [
    {
     "name": "stdout",
     "output_type": "stream",
     "text": [
      "('The', 'sun')\n",
      "('sun', 'is')\n",
      "('is', 'the')\n",
      "('the', 'largest')\n",
      "('largest', 'celestial')\n",
      "('celestial', 'body')\n",
      "('body', 'in')\n",
      "('in', 'the')\n",
      "('the', 'solar')\n",
      "('solar', 'system')\n"
     ]
    }
   ],
   "source": [
    "import nltk\n",
    "# nltk.download('punkt')\n",
    "from nltk.util import ngrams\n",
    "\n",
    "sentence1 = \"The sun is the largest celestial body in the solar system\"\n",
    "ngram_pairs = ngrams(sequence=nltk.word_tokenize(sentence1), n=2)\n",
    "for pairs in ngram_pairs:\n",
    "    print(pairs)\n"
   ]
  }
 ],
 "metadata": {
  "kernelspec": {
   "display_name": "testbed_69",
   "language": "python",
   "name": "python3"
  },
  "language_info": {
   "codemirror_mode": {
    "name": "ipython",
    "version": 3
   },
   "file_extension": ".py",
   "mimetype": "text/x-python",
   "name": "python",
   "nbconvert_exporter": "python",
   "pygments_lexer": "ipython3",
   "version": "3.11.7"
  }
 },
 "nbformat": 4,
 "nbformat_minor": 2
}
