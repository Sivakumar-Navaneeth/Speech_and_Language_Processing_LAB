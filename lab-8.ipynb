{
 "cells": [
  {
   "cell_type": "markdown",
   "metadata": {},
   "source": [
    "# LAB-6-A\n",
    "\n",
    "### Author\n",
    "\n",
    "- [Navaneeth Sivakumar - 21BAI1302](https://github.com/Sivakumar-Navaneeth)"
   ]
  },
  {
   "cell_type": "markdown",
   "metadata": {},
   "source": [
    "### Initializing variables\n",
    "- States - Unique parts os speech in the corpus \n",
    "- Observations - Uninque Words in the corpus \n",
    "- Start Probability - Probability of a state starting the sentence\n",
    "- Transition Probability - Probability that a state occours given the value of the previous state\n",
    "- Emmision Probability - Probability of a word given the tag"
   ]
  },
  {
   "cell_type": "code",
   "execution_count": 1,
   "metadata": {},
   "outputs": [],
   "source": [
    "states = ['noun','pronoun','verb','adjective']\n",
    "observations = ['he','eats','fish','with','a','fork','she','plays','football']\n",
    "sp = {'noun':0.4,'pronoun':0.6,'verb':0,'adjective':0}\n",
    "tp = {'noun':{'noun':0,'pronoun':0.5,'verb':0.4,'adjective':0.2},'pronoun':{'noun':0.3,'pronoun':0.6,'verb':0,'adjective':0},'verb':{'noun':0.1,'pronoun':0.1,'verb':0.1,'adjective':0.1},'adjective':{'noun':0.1,'pronoun':0.1,'verb':0.1,'adjective':0.1}}\n",
    "ep = {'noun':{'he':0,'eats':0,'fish':0.33,'with':0,'a':0,'fork':0.33,'she':0,'plays':0.1,'football':0.1},'pronoun':{'he':0.1,'eats':0.1,'fish':0, 'with':0,'a':0,'fork':0,'she':0.1,'plays':0.1,'football':0},'verb':{'he':0.1,'eats':0.1,'fish': 0.1,'with':0.1,'a':0.1,'fork':0.1,'she':0.1,'plays':0.1,'football':0.1},'adjective':{'he':0.1,'eats':0.1,'fish':0.1,'with':0.1,'a':0.1,'fork':0.1,'she':0.1,'plays':0.1,'football':0.1}} \n",
    "\n",
    "# ep = {'noun':{'he':0,'eats':0,'fish':0.33,'with':0,'sharp':0,'fork':0.33,'she':0,'plays':0,'football':0.33},'pronoun':{'he':0.5,'eats':0,'fish':0, 'with':0,'sharp':0,'fork':0,'she':0.5,'plays':0,'football':0},'verb':{'he':0,'eats':0.5,'fish': 0,'with':0,'sharp':0,'fork':0,'she':0, 'plays':0.5,'football':0},'adjective':{'he':0,'eats':0,'fish':0,'with':0,'sharp':1,'fork':0,'she':0,'plays':0,'football':0}} "
   ]
  },
  {
   "cell_type": "markdown",
   "metadata": {},
   "source": [
    "### Create Function Viterbi"
   ]
  },
  {
   "cell_type": "code",
   "execution_count": 2,
   "metadata": {},
   "outputs": [],
   "source": [
    "import numpy as np\n",
    "\n",
    "def viterbi(states,observations,sp,tp,ep):\n",
    "    n = len(states)\n",
    "    m = len(observations)\n",
    "    v = np.zeros((n,m))\n",
    "    b = np.zeros((n,m))\n",
    "    for i in range(n):\n",
    "        v[i,0] = sp[states[i]]*ep[states[i]][observations[0]]\n",
    "    for t in range(1,m):\n",
    "        for j in range(n):\n",
    "            v[j,t] = max([v[i,t-1]*tp[states[i]][states[j]]*ep[states[j]][observations[t]] for i in range(n)])\n",
    "            b[j,t] = np.argmax([v[i,t-1]*tp[states[i]][states[j]] for i in range(n)])\n",
    "    return v,b"
   ]
  },
  {
   "cell_type": "markdown",
   "metadata": {},
   "source": [
    "### Viterbi Table"
   ]
  },
  {
   "cell_type": "code",
   "execution_count": 3,
   "metadata": {},
   "outputs": [
    {
     "name": "stdout",
     "output_type": "stream",
     "text": [
      "Viterbi Table\n",
      "\n",
      "[[0.000000e+00 0.000000e+00 3.564000e-04 0.000000e+00 0.000000e+00\n",
      "  4.704480e-09 0.000000e+00 7.056720e-12 4.234032e-13]\n",
      " [6.000000e-02 3.600000e-03 0.000000e+00 0.000000e+00 0.000000e+00\n",
      "  0.000000e+00 2.352240e-10 1.411344e-11 0.000000e+00]\n",
      " [0.000000e+00 0.000000e+00 0.000000e+00 1.425600e-05 1.425600e-07\n",
      "  1.425600e-09 1.881792e-10 1.881792e-12 2.822688e-13]\n",
      " [0.000000e+00 0.000000e+00 0.000000e+00 7.128000e-06 1.425600e-07\n",
      "  1.425600e-09 9.408960e-11 1.881792e-12 1.411344e-13]]\n"
     ]
    }
   ],
   "source": [
    "v,b = viterbi(states,observations,sp,tp,ep)\n",
    "print(\"Viterbi Table\\n\")\n",
    "print(v)"
   ]
  },
  {
   "cell_type": "code",
   "execution_count": 4,
   "metadata": {},
   "outputs": [],
   "source": [
    "def backtrace(b):\n",
    "    n,m = b.shape\n",
    "    path = []\n",
    "    path.append(np.argmax(b[:,-1]))\n",
    "    for t in range(m-1,0,-1):\n",
    "        path.append(int(b[path[-1],t]))\n",
    "    return path[::-1]"
   ]
  },
  {
   "cell_type": "markdown",
   "metadata": {},
   "source": [
    "### Viterbi values with words"
   ]
  },
  {
   "cell_type": "code",
   "execution_count": 5,
   "metadata": {},
   "outputs": [
    {
     "name": "stdout",
     "output_type": "stream",
     "text": [
      "[1, 1, 0, 2, 2, 0, 1, 1, 0]\n",
      "\n",
      "Word: he \t POS Value: pronoun\n",
      "Word: eats \t POS Value: pronoun\n",
      "Word: fish \t POS Value: noun\n",
      "Word: with \t POS Value: verb\n",
      "Word: a \t POS Value: verb\n",
      "Word: fork \t POS Value: noun\n",
      "Word: she \t POS Value: pronoun\n",
      "Word: plays \t POS Value: pronoun\n",
      "Word: football \t POS Value: noun\n"
     ]
    }
   ],
   "source": [
    "path = backtrace(b)\n",
    "print(path)\n",
    "print()\n",
    "for index, pos in enumerate(path):\n",
    "    print(f\"Word: {observations[index]} \\t POS Value: {states[pos]}\")"
   ]
  }
 ],
 "metadata": {
  "kernelspec": {
   "display_name": "tf_testbed",
   "language": "python",
   "name": "python3"
  },
  "language_info": {
   "codemirror_mode": {
    "name": "ipython",
    "version": 3
   },
   "file_extension": ".py",
   "mimetype": "text/x-python",
   "name": "python",
   "nbconvert_exporter": "python",
   "pygments_lexer": "ipython3",
   "version": "3.9.19"
  }
 },
 "nbformat": 4,
 "nbformat_minor": 2
}
